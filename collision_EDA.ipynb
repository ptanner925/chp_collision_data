{
 "cells": [
  {
   "cell_type": "code",
   "execution_count": 1,
   "metadata": {},
   "outputs": [],
   "source": [
    "from IPython.display import display\n",
    "import gc\n",
    "import joblib as jb\n",
    "from tqdm.auto import tqdm, trange\n",
    "import os\n",
    "\n",
    "# data manipulation\n",
    "import numpy as np\n",
    "import pandas as pd\n",
    "import sqlite3 as sq\n",
    "from sklearn import preprocessing, pipeline\n",
    "\n",
    "# data visualization\n",
    "import matplotlib.pyplot as plt\n",
    "import seaborn as sns"
   ]
  },
  {
   "cell_type": "code",
   "execution_count": 2,
   "metadata": {},
   "outputs": [],
   "source": [
    "con = sq.connect(\"switrs.sqlite\")\n",
    "cur = con.cursor()"
   ]
  },
  {
   "cell_type": "code",
   "execution_count": 3,
   "metadata": {},
   "outputs": [
    {
     "data": {
      "text/plain": [
       "['case_ids', 'collisions', 'victims', 'parties']"
      ]
     },
     "execution_count": 3,
     "metadata": {},
     "output_type": "execute_result"
    }
   ],
   "source": [
    "tables = [name[0] for name in cur.execute(\"SELECT name FROM sqlite_master\")]\n",
    "tables\n"
   ]
  },
  {
   "cell_type": "code",
   "execution_count": 4,
   "metadata": {},
   "outputs": [],
   "source": [
    "pd.set_option('display.max_columns', None)"
   ]
  },
  {
   "cell_type": "code",
   "execution_count": 5,
   "metadata": {},
   "outputs": [],
   "source": [
    "collision_head_2020 = pd.read_sql(\"\"\"SELECT *\n",
    "            FROM collisions WHERE collision_date BETWEEN '2020-01-01'\n",
    "            AND '2020-12-31';\"\"\", con)\n"
   ]
  },
  {
   "cell_type": "code",
   "execution_count": 6,
   "metadata": {},
   "outputs": [
    {
     "data": {
      "text/plain": [
       "(366417, 75)"
      ]
     },
     "execution_count": 6,
     "metadata": {},
     "output_type": "execute_result"
    }
   ],
   "source": [
    "collision_head_2020.shape"
   ]
  },
  {
   "cell_type": "code",
   "execution_count": 7,
   "metadata": {},
   "outputs": [],
   "source": [
    "columns = list(collision_head_2020.columns)"
   ]
  },
  {
   "cell_type": "code",
   "execution_count": 8,
   "metadata": {},
   "outputs": [
    {
     "data": {
      "text/plain": [
       "['case_id',\n",
       " 'jurisdiction',\n",
       " 'officer_id',\n",
       " 'reporting_district',\n",
       " 'chp_shift',\n",
       " 'population',\n",
       " 'county_city_location',\n",
       " 'county_location',\n",
       " 'special_condition',\n",
       " 'beat_type',\n",
       " 'chp_beat_type',\n",
       " 'city_division_lapd',\n",
       " 'chp_beat_class',\n",
       " 'beat_number',\n",
       " 'primary_road',\n",
       " 'secondary_road',\n",
       " 'distance',\n",
       " 'direction',\n",
       " 'intersection',\n",
       " 'weather_1',\n",
       " 'weather_2',\n",
       " 'state_highway_indicator',\n",
       " 'caltrans_county',\n",
       " 'caltrans_district',\n",
       " 'state_route',\n",
       " 'route_suffix',\n",
       " 'postmile_prefix',\n",
       " 'postmile',\n",
       " 'location_type',\n",
       " 'ramp_intersection',\n",
       " 'side_of_highway',\n",
       " 'tow_away',\n",
       " 'collision_severity',\n",
       " 'killed_victims',\n",
       " 'injured_victims',\n",
       " 'party_count',\n",
       " 'primary_collision_factor',\n",
       " 'pcf_violation_code',\n",
       " 'pcf_violation_category',\n",
       " 'pcf_violation',\n",
       " 'pcf_violation_subsection',\n",
       " 'hit_and_run',\n",
       " 'type_of_collision',\n",
       " 'motor_vehicle_involved_with',\n",
       " 'pedestrian_action',\n",
       " 'road_surface',\n",
       " 'road_condition_1',\n",
       " 'road_condition_2',\n",
       " 'lighting',\n",
       " 'control_device',\n",
       " 'chp_road_type',\n",
       " 'pedestrian_collision',\n",
       " 'bicycle_collision',\n",
       " 'motorcycle_collision',\n",
       " 'truck_collision',\n",
       " 'not_private_property',\n",
       " 'alcohol_involved',\n",
       " 'statewide_vehicle_type_at_fault',\n",
       " 'chp_vehicle_type_at_fault',\n",
       " 'severe_injury_count',\n",
       " 'other_visible_injury_count',\n",
       " 'complaint_of_pain_injury_count',\n",
       " 'pedestrian_killed_count',\n",
       " 'pedestrian_injured_count',\n",
       " 'bicyclist_killed_count',\n",
       " 'bicyclist_injured_count',\n",
       " 'motorcyclist_killed_count',\n",
       " 'motorcyclist_injured_count',\n",
       " 'primary_ramp',\n",
       " 'secondary_ramp',\n",
       " 'latitude',\n",
       " 'longitude',\n",
       " 'collision_date',\n",
       " 'collision_time',\n",
       " 'process_date']"
      ]
     },
     "execution_count": 8,
     "metadata": {},
     "output_type": "execute_result"
    }
   ],
   "source": [
    "columns"
   ]
  },
  {
   "cell_type": "code",
   "execution_count": 10,
   "metadata": {},
   "outputs": [],
   "source": [
    "drop_column_list= [\n",
    " 'jurisdiction',\n",
    " 'officer_id',\n",
    " 'reporting_district',\n",
    " 'chp_shift',\n",
    " 'county_city_location',\n",
    " 'special_condition',\n",
    " 'beat_type',\n",
    " 'chp_beat_type',\n",
    " 'city_division_lapd',\n",
    " 'chp_beat_class',\n",
    " 'beat_number',\n",
    " 'distance',\n",
    " 'direction',\n",
    " 'intersection',\n",
    " 'state_highway_indicator',\n",
    " 'caltrans_county',\n",
    " 'caltrans_district',\n",
    " 'state_route',\n",
    " 'route_suffix',\n",
    " 'postmile_prefix',\n",
    " 'postmile',\n",
    " 'ramp_intersection',\n",
    " 'control_device',\n",
    " 'chp_road_type',\n",
    " 'not_private_property',\n",
    " 'statewide_vehicle_type_at_fault',\n",
    " 'chp_vehicle_type_at_fault',\n",
    " 'severe_injury_count',\n",
    " 'other_visible_injury_count',\n",
    " 'complaint_of_pain_injury_count',\n",
    " 'primary_ramp',\n",
    " 'secondary_ramp']"
   ]
  },
  {
   "cell_type": "code",
   "execution_count": 11,
   "metadata": {
    "scrolled": true
   },
   "outputs": [],
   "source": [
    "collision_2020 = collision_head_2020.drop(drop_column_list, axis=1, inplace = False)"
   ]
  },
  {
   "cell_type": "code",
   "execution_count": 12,
   "metadata": {},
   "outputs": [
    {
     "data": {
      "text/plain": [
       "pandas.core.frame.DataFrame"
      ]
     },
     "execution_count": 12,
     "metadata": {},
     "output_type": "execute_result"
    }
   ],
   "source": [
    "type(collision_2020)"
   ]
  },
  {
   "cell_type": "code",
   "execution_count": 13,
   "metadata": {},
   "outputs": [],
   "source": [
    "collision_2020['Month_Collision'] = pd.DatetimeIndex(collision_2020['collision_date']).month"
   ]
  },
  {
   "cell_type": "code",
   "execution_count": 15,
   "metadata": {},
   "outputs": [],
   "source": [
    "collision_2020['Month_Collision'] = pd.to_datetime(collision_2020['Month_Collision'], format = '%m').dt.month_name().str.slice(stop=3)"
   ]
  },
  {
   "cell_type": "code",
   "execution_count": 16,
   "metadata": {},
   "outputs": [
    {
     "data": {
      "text/plain": [
       "0    Mar\n",
       "1    Jul\n",
       "2    Oct\n",
       "3    Aug\n",
       "4    Oct\n",
       "Name: Month_Collision, dtype: object"
      ]
     },
     "execution_count": 16,
     "metadata": {},
     "output_type": "execute_result"
    }
   ],
   "source": [
    "collision_2020['Month_Collision'].head()"
   ]
  },
  {
   "cell_type": "markdown",
   "metadata": {},
   "source": [
    "## Next steps:\n",
    "alright so i'm trying to tab cyclist, motorcyclist, motorist, and pedestrian deaths throughout the year. Currently trying to figure out how to do that in matplotlib. need a way to go thru each row, find if there is a motorist death, count it, and account for what month it took place, so we can see a visual of "
   ]
  },
  {
   "cell_type": "code",
   "execution_count": null,
   "metadata": {},
   "outputs": [],
   "source": []
  },
  {
   "cell_type": "code",
   "execution_count": 17,
   "metadata": {},
   "outputs": [],
   "source": [
    "month_labels = ['Jan', 'Feb', 'Mar', 'Apr', 'May', 'Jun', 'Jul', 'Aug', 'Sep', 'Oct', 'Nov', 'Dec']\n"
   ]
  },
  {
   "cell_type": "code",
   "execution_count": 15,
   "metadata": {
    "scrolled": true
   },
   "outputs": [
    {
     "name": "stdout",
     "output_type": "stream",
     "text": [
      "<class 'pandas.core.frame.DataFrame'>\n",
      "RangeIndex: 366417 entries, 0 to 366416\n",
      "Data columns (total 39 columns):\n",
      " #   Column                       Non-Null Count   Dtype  \n",
      "---  ------                       --------------   -----  \n",
      " 0   case_id                      366417 non-null  object \n",
      " 1   population                   366417 non-null  object \n",
      " 2   county_location              366417 non-null  object \n",
      " 3   primary_road                 366416 non-null  object \n",
      " 4   secondary_road               366415 non-null  object \n",
      " 5   weather_1                    365043 non-null  object \n",
      " 6   weather_2                    7706 non-null    object \n",
      " 7   location_type                10737 non-null   object \n",
      " 8   side_of_highway              10725 non-null   object \n",
      " 9   tow_away                     357042 non-null  float64\n",
      " 10  collision_severity           366417 non-null  object \n",
      " 11  killed_victims               366417 non-null  int64  \n",
      " 12  injured_victims              366417 non-null  int64  \n",
      " 13  party_count                  366417 non-null  int64  \n",
      " 14  primary_collision_factor     364105 non-null  object \n",
      " 15  pcf_violation_code           39 non-null      object \n",
      " 16  pcf_violation_category       362931 non-null  object \n",
      " 17  pcf_violation                343207 non-null  float64\n",
      " 18  pcf_violation_subsection     133775 non-null  object \n",
      " 19  hit_and_run                  366417 non-null  object \n",
      " 20  type_of_collision            363866 non-null  object \n",
      " 21  motor_vehicle_involved_with  364489 non-null  object \n",
      " 22  pedestrian_action            366185 non-null  object \n",
      " 23  road_surface                 362606 non-null  object \n",
      " 24  road_condition_1             364538 non-null  object \n",
      " 25  road_condition_2             2550 non-null    object \n",
      " 26  lighting                     365253 non-null  object \n",
      " 27  pedestrian_collision         366417 non-null  int64  \n",
      " 28  bicycle_collision            366417 non-null  int64  \n",
      " 29  motorcycle_collision         366417 non-null  int64  \n",
      " 30  truck_collision              366417 non-null  int64  \n",
      " 31  alcohol_involved             41011 non-null   float64\n",
      " 32  pedestrian_killed_count      366417 non-null  int64  \n",
      " 33  pedestrian_injured_count     366417 non-null  int64  \n",
      " 34  bicyclist_killed_count       366417 non-null  int64  \n",
      " 35  bicyclist_injured_count      366417 non-null  int64  \n",
      " 36  motorcyclist_killed_count    366417 non-null  int64  \n",
      " 37  motorcyclist_injured_count   366417 non-null  int64  \n",
      " 38  process_date                 366417 non-null  object \n",
      "dtypes: float64(3), int64(13), object(23)\n",
      "memory usage: 109.0+ MB\n"
     ]
    }
   ],
   "source": [
    "collision_2020.info()"
   ]
  },
  {
   "cell_type": "code",
   "execution_count": null,
   "metadata": {},
   "outputs": [],
   "source": []
  },
  {
   "cell_type": "code",
   "execution_count": null,
   "metadata": {},
   "outputs": [],
   "source": [
    "case_ids_2020 = pd.read_sql(\"\"\"SELECT *\n",
    "            FROM case_ids;\"\"\", con)\n"
   ]
  },
  {
   "cell_type": "code",
   "execution_count": 24,
   "metadata": {},
   "outputs": [
    {
     "data": {
      "text/plain": [
       "2020"
      ]
     },
     "execution_count": 24,
     "metadata": {},
     "output_type": "execute_result"
    }
   ],
   "source": [
    "case_ids_2020"
   ]
  },
  {
   "cell_type": "code",
   "execution_count": 22,
   "metadata": {},
   "outputs": [],
   "source": [
    "distinct_years = pd.read_sql(\"\"\"SELECT DISTINCT \n",
    "         strftime('%Y', collision_date) from collisions ORDER BY collision_date;\"\"\", con)"
   ]
  },
  {
   "cell_type": "code",
   "execution_count": 23,
   "metadata": {},
   "outputs": [
    {
     "data": {
      "text/html": [
       "<div>\n",
       "<style scoped>\n",
       "    .dataframe tbody tr th:only-of-type {\n",
       "        vertical-align: middle;\n",
       "    }\n",
       "\n",
       "    .dataframe tbody tr th {\n",
       "        vertical-align: top;\n",
       "    }\n",
       "\n",
       "    .dataframe thead th {\n",
       "        text-align: right;\n",
       "    }\n",
       "</style>\n",
       "<table border=\"1\" class=\"dataframe\">\n",
       "  <thead>\n",
       "    <tr style=\"text-align: right;\">\n",
       "      <th></th>\n",
       "      <th>strftime('%Y', collision_date)</th>\n",
       "    </tr>\n",
       "  </thead>\n",
       "  <tbody>\n",
       "    <tr>\n",
       "      <th>0</th>\n",
       "      <td>2001</td>\n",
       "    </tr>\n",
       "    <tr>\n",
       "      <th>1</th>\n",
       "      <td>2002</td>\n",
       "    </tr>\n",
       "    <tr>\n",
       "      <th>2</th>\n",
       "      <td>2003</td>\n",
       "    </tr>\n",
       "    <tr>\n",
       "      <th>3</th>\n",
       "      <td>2004</td>\n",
       "    </tr>\n",
       "    <tr>\n",
       "      <th>4</th>\n",
       "      <td>2005</td>\n",
       "    </tr>\n",
       "    <tr>\n",
       "      <th>5</th>\n",
       "      <td>2006</td>\n",
       "    </tr>\n",
       "    <tr>\n",
       "      <th>6</th>\n",
       "      <td>2007</td>\n",
       "    </tr>\n",
       "    <tr>\n",
       "      <th>7</th>\n",
       "      <td>2008</td>\n",
       "    </tr>\n",
       "    <tr>\n",
       "      <th>8</th>\n",
       "      <td>2009</td>\n",
       "    </tr>\n",
       "    <tr>\n",
       "      <th>9</th>\n",
       "      <td>2010</td>\n",
       "    </tr>\n",
       "    <tr>\n",
       "      <th>10</th>\n",
       "      <td>2011</td>\n",
       "    </tr>\n",
       "    <tr>\n",
       "      <th>11</th>\n",
       "      <td>2012</td>\n",
       "    </tr>\n",
       "    <tr>\n",
       "      <th>12</th>\n",
       "      <td>2013</td>\n",
       "    </tr>\n",
       "    <tr>\n",
       "      <th>13</th>\n",
       "      <td>2014</td>\n",
       "    </tr>\n",
       "    <tr>\n",
       "      <th>14</th>\n",
       "      <td>2015</td>\n",
       "    </tr>\n",
       "    <tr>\n",
       "      <th>15</th>\n",
       "      <td>2016</td>\n",
       "    </tr>\n",
       "    <tr>\n",
       "      <th>16</th>\n",
       "      <td>2017</td>\n",
       "    </tr>\n",
       "    <tr>\n",
       "      <th>17</th>\n",
       "      <td>2018</td>\n",
       "    </tr>\n",
       "    <tr>\n",
       "      <th>18</th>\n",
       "      <td>2019</td>\n",
       "    </tr>\n",
       "    <tr>\n",
       "      <th>19</th>\n",
       "      <td>2020</td>\n",
       "    </tr>\n",
       "    <tr>\n",
       "      <th>20</th>\n",
       "      <td>2021</td>\n",
       "    </tr>\n",
       "  </tbody>\n",
       "</table>\n",
       "</div>"
      ],
      "text/plain": [
       "   strftime('%Y', collision_date)\n",
       "0                            2001\n",
       "1                            2002\n",
       "2                            2003\n",
       "3                            2004\n",
       "4                            2005\n",
       "5                            2006\n",
       "6                            2007\n",
       "7                            2008\n",
       "8                            2009\n",
       "9                            2010\n",
       "10                           2011\n",
       "11                           2012\n",
       "12                           2013\n",
       "13                           2014\n",
       "14                           2015\n",
       "15                           2016\n",
       "16                           2017\n",
       "17                           2018\n",
       "18                           2019\n",
       "19                           2020\n",
       "20                           2021"
      ]
     },
     "execution_count": 23,
     "metadata": {},
     "output_type": "execute_result"
    }
   ],
   "source": [
    "distinct_years"
   ]
  },
  {
   "cell_type": "code",
   "execution_count": 15,
   "metadata": {},
   "outputs": [
    {
     "data": {
      "text/plain": [
       "0    2020-03-14\n",
       "1    2020-07-26\n",
       "2    2020-10-05\n",
       "3    2020-08-06\n",
       "4    2020-10-05\n",
       "5    2020-08-06\n",
       "6    2020-10-05\n",
       "7    2020-08-07\n",
       "8    2020-10-02\n",
       "9    2020-08-13\n",
       "Name: collision_date, dtype: object"
      ]
     },
     "execution_count": 15,
     "metadata": {},
     "output_type": "execute_result"
    }
   ],
   "source": [
    "collision_head_10.collision_date"
   ]
  },
  {
   "cell_type": "code",
   "execution_count": 11,
   "metadata": {},
   "outputs": [
    {
     "name": "stdout",
     "output_type": "stream",
     "text": [
      "<class 'pandas.core.frame.DataFrame'>\n",
      "RangeIndex: 10 entries, 0 to 9\n",
      "Data columns (total 75 columns):\n",
      " #   Column                           Non-Null Count  Dtype  \n",
      "---  ------                           --------------  -----  \n",
      " 0   case_id                          10 non-null     object \n",
      " 1   jurisdiction                     10 non-null     int64  \n",
      " 2   officer_id                       10 non-null     object \n",
      " 3   reporting_district               3 non-null      object \n",
      " 4   chp_shift                        10 non-null     object \n",
      " 5   population                       10 non-null     object \n",
      " 6   county_city_location             10 non-null     object \n",
      " 7   county_location                  10 non-null     object \n",
      " 8   special_condition                10 non-null     object \n",
      " 9   beat_type                        10 non-null     object \n",
      " 10  chp_beat_type                    10 non-null     object \n",
      " 11  city_division_lapd               0 non-null      object \n",
      " 12  chp_beat_class                   10 non-null     object \n",
      " 13  beat_number                      10 non-null     object \n",
      " 14  primary_road                     10 non-null     object \n",
      " 15  secondary_road                   10 non-null     object \n",
      " 16  distance                         10 non-null     float64\n",
      " 17  direction                        7 non-null      object \n",
      " 18  intersection                     9 non-null      float64\n",
      " 19  weather_1                        10 non-null     object \n",
      " 20  weather_2                        0 non-null      object \n",
      " 21  state_highway_indicator          10 non-null     int64  \n",
      " 22  caltrans_county                  7 non-null      object \n",
      " 23  caltrans_district                7 non-null      float64\n",
      " 24  state_route                      7 non-null      float64\n",
      " 25  route_suffix                     0 non-null      object \n",
      " 26  postmile_prefix                  1 non-null      object \n",
      " 27  postmile                         7 non-null      float64\n",
      " 28  location_type                    7 non-null      object \n",
      " 29  ramp_intersection                0 non-null      object \n",
      " 30  side_of_highway                  7 non-null      object \n",
      " 31  tow_away                         9 non-null      float64\n",
      " 32  collision_severity               10 non-null     object \n",
      " 33  killed_victims                   10 non-null     int64  \n",
      " 34  injured_victims                  10 non-null     int64  \n",
      " 35  party_count                      10 non-null     int64  \n",
      " 36  primary_collision_factor         10 non-null     object \n",
      " 37  pcf_violation_code               0 non-null      object \n",
      " 38  pcf_violation_category           10 non-null     object \n",
      " 39  pcf_violation                    9 non-null      float64\n",
      " 40  pcf_violation_subsection         0 non-null      object \n",
      " 41  hit_and_run                      10 non-null     object \n",
      " 42  type_of_collision                10 non-null     object \n",
      " 43  motor_vehicle_involved_with      10 non-null     object \n",
      " 44  pedestrian_action                10 non-null     object \n",
      " 45  road_surface                     10 non-null     object \n",
      " 46  road_condition_1                 10 non-null     object \n",
      " 47  road_condition_2                 0 non-null      object \n",
      " 48  lighting                         10 non-null     object \n",
      " 49  control_device                   10 non-null     object \n",
      " 50  chp_road_type                    10 non-null     object \n",
      " 51  pedestrian_collision             10 non-null     int64  \n",
      " 52  bicycle_collision                10 non-null     int64  \n",
      " 53  motorcycle_collision             10 non-null     int64  \n",
      " 54  truck_collision                  10 non-null     int64  \n",
      " 55  not_private_property             10 non-null     int64  \n",
      " 56  alcohol_involved                 0 non-null      object \n",
      " 57  statewide_vehicle_type_at_fault  9 non-null      object \n",
      " 58  chp_vehicle_type_at_fault        9 non-null      object \n",
      " 59  severe_injury_count              10 non-null     int64  \n",
      " 60  other_visible_injury_count       10 non-null     int64  \n",
      " 61  complaint_of_pain_injury_count   10 non-null     int64  \n",
      " 62  pedestrian_killed_count          10 non-null     int64  \n",
      " 63  pedestrian_injured_count         10 non-null     int64  \n",
      " 64  bicyclist_killed_count           10 non-null     int64  \n",
      " 65  bicyclist_injured_count          10 non-null     int64  \n",
      " 66  motorcyclist_killed_count        10 non-null     int64  \n",
      " 67  motorcyclist_injured_count       10 non-null     int64  \n",
      " 68  primary_ramp                     0 non-null      object \n",
      " 69  secondary_ramp                   0 non-null      object \n",
      " 70  latitude                         6 non-null      float64\n",
      " 71  longitude                        6 non-null      float64\n",
      " 72  collision_date                   10 non-null     object \n",
      " 73  collision_time                   10 non-null     object \n",
      " 74  process_date                     10 non-null     object \n",
      "dtypes: float64(9), int64(19), object(47)\n",
      "memory usage: 6.0+ KB\n"
     ]
    }
   ],
   "source": [
    "collision_head_10.info()"
   ]
  },
  {
   "cell_type": "code",
   "execution_count": 14,
   "metadata": {},
   "outputs": [
    {
     "name": "stdout",
     "output_type": "stream",
     "text": [
      "Tables' features:\n",
      "\n"
     ]
    }
   ],
   "source": []
  },
  {
   "cell_type": "code",
   "execution_count": null,
   "metadata": {},
   "outputs": [],
   "source": []
  },
  {
   "cell_type": "code",
   "execution_count": null,
   "metadata": {},
   "outputs": [],
   "source": []
  }
 ],
 "metadata": {
  "kernelspec": {
   "display_name": "learn-env",
   "language": "python",
   "name": "learn-env"
  },
  "language_info": {
   "codemirror_mode": {
    "name": "ipython",
    "version": 3
   },
   "file_extension": ".py",
   "mimetype": "text/x-python",
   "name": "python",
   "nbconvert_exporter": "python",
   "pygments_lexer": "ipython3",
   "version": "3.8.3"
  }
 },
 "nbformat": 4,
 "nbformat_minor": 4
}
